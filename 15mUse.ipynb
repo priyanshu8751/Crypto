{
  "nbformat": 4,
  "nbformat_minor": 0,
  "metadata": {
    "colab": {
      "provenance": []
    },
    "kernelspec": {
      "name": "python3",
      "display_name": "Python 3"
    },
    "language_info": {
      "name": "python"
    }
  },
  "cells": [
    {
      "cell_type": "code",
      "execution_count": 1,
      "metadata": {
        "id": "pjETCKtOoYR6"
      },
      "outputs": [],
      "source": [
        "import tensorflow as tf\n",
        "from keras.models import Sequential\n",
        "from keras.layers import Dense, LSTM, Dropout\n",
        "from sklearn.preprocessing import MinMaxScaler\n",
        "from sklearn.metrics import mean_squared_error"
      ]
    },
    {
      "cell_type": "code",
      "source": [
        "from tensorflow import keras"
      ],
      "metadata": {
        "id": "M_b6gyBdokeN"
      },
      "execution_count": 2,
      "outputs": []
    },
    {
      "cell_type": "code",
      "source": [
        "tf.config.list_physical_devices('GPU')"
      ],
      "metadata": {
        "colab": {
          "base_uri": "https://localhost:8080/"
        },
        "id": "ClCgMoUrol-l",
        "outputId": "46d409b0-0534-48d2-85c4-a9d910863961"
      },
      "execution_count": 3,
      "outputs": [
        {
          "output_type": "execute_result",
          "data": {
            "text/plain": [
              "[]"
            ]
          },
          "metadata": {},
          "execution_count": 3
        }
      ]
    },
    {
      "cell_type": "code",
      "source": [
        "tf.device('/device:GPU:0')"
      ],
      "metadata": {
        "colab": {
          "base_uri": "https://localhost:8080/"
        },
        "id": "GodIUGHKooVH",
        "outputId": "51acfd66-ea8e-4dd4-d97d-e3840f27e288"
      },
      "execution_count": 4,
      "outputs": [
        {
          "output_type": "execute_result",
          "data": {
            "text/plain": [
              "<tensorflow.python.eager.context._EagerDeviceContext at 0x78cf708a3280>"
            ]
          },
          "metadata": {},
          "execution_count": 4
        }
      ]
    },
    {
      "cell_type": "code",
      "source": [
        "import pandas as pd\n",
        "import numpy as np\n",
        "from matplotlib import pyplot as plt"
      ],
      "metadata": {
        "id": "eYi-bPcGorau"
      },
      "execution_count": 5,
      "outputs": []
    },
    {
      "cell_type": "code",
      "source": [
        "from google.colab import drive\n",
        "drive.mount('/content/drive')"
      ],
      "metadata": {
        "colab": {
          "base_uri": "https://localhost:8080/"
        },
        "id": "j4UR67Y3osoa",
        "outputId": "877b1481-5c2d-43a0-b94b-f92a99059d7d"
      },
      "execution_count": 6,
      "outputs": [
        {
          "output_type": "stream",
          "name": "stdout",
          "text": [
            "Mounted at /content/drive\n"
          ]
        }
      ]
    },
    {
      "cell_type": "code",
      "source": [
        "df = pd.read_csv(\"/content/drive/MyDrive/Crypto/btcusdt_15m.csv\")"
      ],
      "metadata": {
        "id": "40rK7jUSot0w"
      },
      "execution_count": 7,
      "outputs": []
    },
    {
      "cell_type": "code",
      "source": [
        "def data_load():\n",
        "  df = pd.read_csv(\"/content/drive/MyDrive/Crypto/btcusdt_15m.csv\")\n",
        "  features = df.drop(\"datetime\",axis=1)\n",
        "\n",
        "  train_features = features\n",
        "  features_scaler = MinMaxScaler(feature_range=(0, 1))\n",
        "  train_features_normalized = features_scaler.fit_transform(train_features)\n",
        "\n",
        "  trainX = []\n",
        "  trainY = []\n",
        "\n",
        "  n_future = 1\n",
        "  n_past = 70\n",
        "\n",
        "  for i in range(n_past, len(train_features_normalized) - n_future +1):\n",
        "    trainX.append(train_features_normalized[i - n_past:i, 0:df.shape[1]])\n",
        "    trainY.append(train_features_normalized[i + n_future - 1:i + n_future,3])\n",
        "\n",
        "  return trainX[-n_past:]"
      ],
      "metadata": {
        "id": "XyF55K4XrtWC"
      },
      "execution_count": null,
      "outputs": []
    },
    {
      "cell_type": "code",
      "source": [
        "def forecast(model, n):\n",
        "  future_predictions = []  ## list of future values\n",
        "  current_batch = data_load()\n",
        "  for _ in range(14):    ## iterating the same for 14 days future forecast\n",
        "\n",
        "      # get the prediction value for the first batch\n",
        "      current_pred = model.predict(current_batch)\n",
        "\n",
        "      # print(\"Current_pred: {}\".format(current_pred))\n",
        "      # append the prediction into the array\n",
        "      future_predictions.append(current_pred[0][0])\n",
        "\n",
        "      # use the prediction to update the batch and remove the first value\n",
        "      current_batch= np.delete(current_batch,0,axis=1)\n",
        "      current_pred = np.repeat(current_pred, 5, axis=1)\n",
        "      current_pred = current_pred.reshape((1,1,5))\n",
        "      current_batch = np.append(current_batch,current_pred,axis=1)\n",
        "\n",
        "  return future_predictions"
      ],
      "metadata": {
        "id": "0VuQdMX7oxFj"
      },
      "execution_count": null,
      "outputs": []
    },
    {
      "cell_type": "code",
      "source": [
        "def add(date, open, high, low, close, volume):\n",
        "  df = pd.read_csv(\"/content/drive/MyDrive/Crypto/btcusdt_15m.csv\")\n",
        "\n",
        "  # Create a new row with the values you want to add\n",
        "  new_row = {'datetime' : date, 'open': open, 'high': high, 'low': low, 'close': close, 'volume': volume}\n",
        "\n",
        "  # Add the new row to the DataFrame\n",
        "  df = df.append(new_row, ignore_index=True)\n",
        "\n",
        "  df.to_csv(\"/content/drive/MyDrive/Crypto/btcusdt_15m.csv\", index = False)\n"
      ],
      "metadata": {
        "id": "glYwPmTmzZGZ"
      },
      "execution_count": null,
      "outputs": []
    },
    {
      "cell_type": "code",
      "source": [
        "import tensorflow as tf\n",
        "\n",
        "# Load the model from a file\n",
        "model = tf.keras.models.load_model('/content/drive/MyDrive/Crypto/model.h5')\n"
      ],
      "metadata": {
        "id": "gGz3XCee1Mvl"
      },
      "execution_count": null,
      "outputs": []
    }
  ]
}