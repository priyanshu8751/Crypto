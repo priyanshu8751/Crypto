{
 "cells": [
  {
   "cell_type": "code",
   "execution_count": 98,
   "id": "6aa0bf12",
   "metadata": {},
   "outputs": [],
   "source": [
    "import tensorflow as tf\n",
    "from keras.models import Sequential\n",
    "from keras.layers import Dense, LSTM, Dropout\n",
    "from sklearn.preprocessing import MinMaxScaler\n",
    "from sklearn.metrics import mean_squared_error"
   ]
  },
  {
   "cell_type": "code",
   "execution_count": 207,
   "id": "51a64ffb",
   "metadata": {},
   "outputs": [],
   "source": [
    "from tensorflow import keras"
   ]
  },
  {
   "cell_type": "code",
   "execution_count": 99,
   "id": "a0c73beb",
   "metadata": {},
   "outputs": [
    {
     "data": {
      "text/plain": [
       "[PhysicalDevice(name='/physical_device:GPU:0', device_type='GPU')]"
      ]
     },
     "execution_count": 99,
     "metadata": {},
     "output_type": "execute_result"
    }
   ],
   "source": [
    "tf.config.list_physical_devices('GPU')"
   ]
  },
  {
   "cell_type": "code",
   "execution_count": 100,
   "id": "210e7009",
   "metadata": {},
   "outputs": [
    {
     "data": {
      "text/plain": [
       "<tensorflow.python.eager.context._EagerDeviceContext at 0x24c93863200>"
      ]
     },
     "execution_count": 100,
     "metadata": {},
     "output_type": "execute_result"
    }
   ],
   "source": [
    "tf.device('/device:GPU:0')"
   ]
  },
  {
   "cell_type": "code",
   "execution_count": 272,
   "id": "0e5b85f9",
   "metadata": {},
   "outputs": [],
   "source": [
    "import pandas as pd\n",
    "import numpy as np"
   ]
  },
  {
   "cell_type": "code",
   "execution_count": 273,
   "id": "a43c5e96",
   "metadata": {},
   "outputs": [],
   "source": [
    "df = pd.read_csv(\"btcusdt_15m.csv\")"
   ]
  },
  {
   "cell_type": "code",
   "execution_count": 274,
   "id": "1a425a23",
   "metadata": {},
   "outputs": [],
   "source": [
    "from sklearn.preprocessing import MinMaxScaler"
   ]
  },
  {
   "cell_type": "code",
   "execution_count": 275,
   "id": "70707344",
   "metadata": {},
   "outputs": [],
   "source": [
    "df_for_training = df.iloc[:34756]"
   ]
  },
  {
   "cell_type": "code",
   "execution_count": 276,
   "id": "8793956f",
   "metadata": {},
   "outputs": [],
   "source": [
    "features = df_for_training.drop(\"datetime\",axis=1)\n",
    "\n",
    "# Split the data into training (80%), validation (10%), and testing (10%) sets\n",
    "train_size = int(len(features) * 0.8)\n",
    "val_size = int(len(features) * 0.1)\n",
    "\n",
    "train_features, val_features, test_features = features[:train_size], features[train_size:train_size + val_size], features[train_size + val_size:]\n",
    "\n",
    "# Normalize the features using MinMaxScaler\n",
    "features_scaler = MinMaxScaler(feature_range=(0, 1))\n",
    "train_features_normalized = features_scaler.fit_transform(train_features)\n",
    "val_features_normalized = features_scaler.transform(val_features)\n",
    "test_features_normalized = features_scaler.transform(test_features)"
   ]
  },
  {
   "cell_type": "code",
   "execution_count": 330,
   "id": "fd6c7196",
   "metadata": {},
   "outputs": [
    {
     "data": {
      "text/plain": [
       "[<matplotlib.lines.Line2D at 0x24cbf34a0d0>]"
      ]
     },
     "execution_count": 330,
     "metadata": {},
     "output_type": "execute_result"
    },
    {
     "data": {
      "image/png": "[encoded data removed]",
      "text/plain": [
       "<Figure size 432x288 with 1 Axes>"
      ]
     },
     "metadata": {
      "needs_background": "light"
     },
     "output_type": "display_data"
    }
   ],
   "source": [
    "plt.plot(df.close)"
   ]
  },
  {
   "cell_type": "code",
   "execution_count": 277,
   "id": "197c1cd1",
   "metadata": {},
   "outputs": [
    {
     "data": {
      "text/html": [
       "<div>\n",
       "<style scoped>\n",
       "    .dataframe tbody tr th:only-of-type {\n",
       "        vertical-align: middle;\n",
       "    }\n",
       "\n",
       "    .dataframe tbody tr th {\n",
       "        vertical-align: top;\n",
       "    }\n",
       "\n",
       "    .dataframe thead th {\n",
       "        text-align: right;\n",
       "    }\n",
       "</style>\n",
       "<table border=\"1\" class=\"dataframe\">\n",
       "  <thead>\n",
       "    <tr style=\"text-align: right;\">\n",
       "      <th></th>\n",
       "      <th>open</th>\n",
       "      <th>high</th>\n",
       "      <th>low</th>\n",
       "      <th>close</th>\n",
       "      <th>volume</th>\n",
       "    </tr>\n",
       "  </thead>\n",
       "  <tbody>\n",
       "    <tr>\n",
       "      <th>0</th>\n",
       "      <td>13715.65</td>\n",
       "      <td>13715.65</td>\n",
       "      <td>13400.01</td>\n",
       "      <td>13556.15</td>\n",
       "      <td>123.616013</td>\n",
       "    </tr>\n",
       "    <tr>\n",
       "      <th>1</th>\n",
       "      <td>13533.75</td>\n",
       "      <td>13550.87</td>\n",
       "      <td>13402.00</td>\n",
       "      <td>13521.12</td>\n",
       "      <td>98.136430</td>\n",
       "    </tr>\n",
       "    <tr>\n",
       "      <th>2</th>\n",
       "      <td>13500.00</td>\n",
       "      <td>13545.37</td>\n",
       "      <td>13450.00</td>\n",
       "      <td>13470.41</td>\n",
       "      <td>79.904037</td>\n",
       "    </tr>\n",
       "    <tr>\n",
       "      <th>3</th>\n",
       "      <td>13494.65</td>\n",
       "      <td>13690.87</td>\n",
       "      <td>13450.00</td>\n",
       "      <td>13529.01</td>\n",
       "      <td>141.699719</td>\n",
       "    </tr>\n",
       "    <tr>\n",
       "      <th>4</th>\n",
       "      <td>13528.99</td>\n",
       "      <td>13571.74</td>\n",
       "      <td>13402.28</td>\n",
       "      <td>13445.63</td>\n",
       "      <td>72.537533</td>\n",
       "    </tr>\n",
       "    <tr>\n",
       "      <th>...</th>\n",
       "      <td>...</td>\n",
       "      <td>...</td>\n",
       "      <td>...</td>\n",
       "      <td>...</td>\n",
       "      <td>...</td>\n",
       "    </tr>\n",
       "    <tr>\n",
       "      <th>34751</th>\n",
       "      <td>3732.65</td>\n",
       "      <td>3734.97</td>\n",
       "      <td>3723.13</td>\n",
       "      <td>3732.62</td>\n",
       "      <td>184.619487</td>\n",
       "    </tr>\n",
       "    <tr>\n",
       "      <th>34752</th>\n",
       "      <td>3733.08</td>\n",
       "      <td>3739.42</td>\n",
       "      <td>3729.08</td>\n",
       "      <td>3737.82</td>\n",
       "      <td>195.206984</td>\n",
       "    </tr>\n",
       "    <tr>\n",
       "      <th>34753</th>\n",
       "      <td>3737.52</td>\n",
       "      <td>3739.55</td>\n",
       "      <td>3732.76</td>\n",
       "      <td>3736.31</td>\n",
       "      <td>167.810387</td>\n",
       "    </tr>\n",
       "    <tr>\n",
       "      <th>34754</th>\n",
       "      <td>3736.57</td>\n",
       "      <td>3739.35</td>\n",
       "      <td>3731.64</td>\n",
       "      <td>3737.42</td>\n",
       "      <td>182.625978</td>\n",
       "    </tr>\n",
       "    <tr>\n",
       "      <th>34755</th>\n",
       "      <td>3736.89</td>\n",
       "      <td>3742.96</td>\n",
       "      <td>3735.06</td>\n",
       "      <td>3740.13</td>\n",
       "      <td>127.635172</td>\n",
       "    </tr>\n",
       "  </tbody>\n",
       "</table>\n",
       "<p>34756 rows × 5 columns</p>\n",
       "</div>"
      ],
      "text/plain": [
       "           open      high       low     close      volume\n",
       "0      13715.65  13715.65  13400.01  13556.15  123.616013\n",
       "1      13533.75  13550.87  13402.00  13521.12   98.136430\n",
       "2      13500.00  13545.37  13450.00  13470.41   79.904037\n",
       "3      13494.65  13690.87  13450.00  13529.01  141.699719\n",
       "4      13528.99  13571.74  13402.28  13445.63   72.537533\n",
       "...         ...       ...       ...       ...         ...\n",
       "34751   3732.65   3734.97   3723.13   3732.62  184.619487\n",
       "34752   3733.08   3739.42   3729.08   3737.82  195.206984\n",
       "34753   3737.52   3739.55   3732.76   3736.31  167.810387\n",
       "34754   3736.57   3739.35   3731.64   3737.42  182.625978\n",
       "34755   3736.89   3742.96   3735.06   3740.13  127.635172\n",
       "\n",
       "[34756 rows x 5 columns]"
      ]
     },
     "execution_count": 277,
     "metadata": {},
     "output_type": "execute_result"
    }
   ],
   "source": [
    "features"
   ]
  },
  {
   "cell_type": "code",
   "execution_count": 278,
   "id": "d3433a1e",
   "metadata": {},
   "outputs": [],
   "source": [
    "trainX = []\n",
    "trainY = []\n",
    "\n",
    "n_future = 1   # Number of days we want to look into the future based on the past days.\n",
    "n_past = 80  # Number of past days we want to use to predict the future."
   ]
  },
  {
   "cell_type": "code",
   "execution_count": 279,
   "id": "ad9bc998",
   "metadata": {},
   "outputs": [],
   "source": [
    "for i in range(n_past, len(train_features_normalized) - n_future +1):\n",
    "    trainX.append(train_features_normalized[i - n_past:i, 0:df_for_training.shape[1]])\n",
    "    trainY.append(train_features_normalized[i + n_future - 1:i + n_future,3])"
   ]
  },
  {
   "cell_type": "code",
   "execution_count": 280,
   "id": "d8853282",
   "metadata": {},
   "outputs": [
    {
     "name": "stdout",
     "output_type": "stream",
     "text": [
      "valdX shape == (27724, 80, 5).\n",
      "valdY shape == (27724, 1).\n"
     ]
    }
   ],
   "source": [
    "trainX, trainY = np.array(trainX), np.array(trainY)\n",
    "\n",
    "print('valdX shape == {}.'.format(trainX.shape))\n",
    "print('valdY shape == {}.'.format(trainY.shape))"
   ]
  },
  {
   "cell_type": "code",
   "execution_count": 281,
   "id": "3dc80337",
   "metadata": {},
   "outputs": [],
   "source": [
    "testX = []\n",
    "testY = []\n",
    "\n",
    "n_future = 1   # Number of days we want to look into the future based on the past days.\n",
    "n_past = 80"
   ]
  },
  {
   "cell_type": "code",
   "execution_count": 282,
   "id": "3f3229b0",
   "metadata": {},
   "outputs": [],
   "source": [
    "for i in range(n_past, len(test_features_normalized) - n_future +1):\n",
    "    testX.append(test_features_normalized[i - n_past:i, 0:df_for_training.shape[1]])\n",
    "    testY.append(train_features_normalized[i + n_future - 1:i + n_future,3])"
   ]
  },
  {
   "cell_type": "code",
   "execution_count": 283,
   "id": "15b1e1af",
   "metadata": {},
   "outputs": [],
   "source": [
    "testX = np.array(testX)\n",
    "testY = np.array(testY)"
   ]
  },
  {
   "cell_type": "code",
   "execution_count": 284,
   "id": "cc149f6d",
   "metadata": {},
   "outputs": [
    {
     "data": {
      "text/plain": [
       "((3397, 80, 5), (3397, 1))"
      ]
     },
     "execution_count": 284,
     "metadata": {},
     "output_type": "execute_result"
    }
   ],
   "source": [
    "testX.shape,testY.shape"
   ]
  },
  {
   "cell_type": "code",
   "execution_count": 285,
   "id": "4c0f1784",
   "metadata": {},
   "outputs": [],
   "source": [
    "valdX = []\n",
    "valdY = []\n",
    "\n",
    "n_future = 1   # Number of days we want to look into the future based on the past days.\n",
    "n_past = 80"
   ]
  },
  {
   "cell_type": "code",
   "execution_count": 286,
   "id": "1cf096bb",
   "metadata": {},
   "outputs": [],
   "source": [
    "for i in range(n_past, len(val_features_normalized) - n_future +1):\n",
    "    valdX.append(val_features_normalized[i - n_past:i, 0:df_for_training.shape[1]])\n",
    "    valdY.append(val_features_normalized[i + n_future - 1:i + n_future,3])"
   ]
  },
  {
   "cell_type": "code",
   "execution_count": 287,
   "id": "3a23dd21",
   "metadata": {},
   "outputs": [
    {
     "name": "stdout",
     "output_type": "stream",
     "text": [
      "valdX shape == (3395, 80, 5).\n",
      "valdY shape == (3395, 1).\n"
     ]
    }
   ],
   "source": [
    "valdX, valdY = np.array(valdX), np.array(valdY)\n",
    "\n",
    "print('valdX shape == {}.'.format(valdX.shape))\n",
    "print('valdY shape == {}.'.format(valdY.shape))"
   ]
  },
  {
   "cell_type": "code",
   "execution_count": 372,
   "id": "b0cf3845",
   "metadata": {},
   "outputs": [],
   "source": [
    "model = Sequential()\n",
    "model.add(LSTM(100, activation= 'tanh',return_sequences=True, input_shape=(trainX.shape[1], trainX.shape[2])))\n",
    "# model.add(Dropout(0.2))\n",
    "model.add(LSTM(units=100, activation='tanh',return_sequences=True))\n",
    "# model.add(Dropout(0.2))\n",
    "model.add(LSTM(units=100, activation='tanh',return_sequences=True))\n",
    "# model.add(Dropout(0.2))\n",
    "model.add(LSTM(units=100, activation='tanh', return_sequences=False))\n",
    "# model.add(LSTM(100, activation='tanh',return_sequences=False))\n",
    "model.add(Dense(trainX.shape[2]))\n",
    "\n",
    "opt = keras.optimizers.Adam(learning_rate=0.1)\n",
    "\n",
    "model.compile(optimizer=opt, loss='mse')"
   ]
  },
  {
   "cell_type": "code",
   "execution_count": 373,
   "id": "9064f3f8",
   "metadata": {},
   "outputs": [
    {
     "name": "stdout",
     "output_type": "stream",
     "text": [
      "Model: \"sequential_25\"\n",
      "_________________________________________________________________\n",
      "Layer (type)                 Output Shape              Param #   \n",
      "=================================================================\n",
      "lstm_102 (LSTM)              (None, 80, 100)           42400     \n",
      "_________________________________________________________________\n",
      "lstm_103 (LSTM)              (None, 80, 100)           80400     \n",
      "_________________________________________________________________\n",
      "lstm_104 (LSTM)              (None, 80, 100)           80400     \n",
      "_________________________________________________________________\n",
      "lstm_105 (LSTM)              (None, 100)               80400     \n",
      "_________________________________________________________________\n",
      "dense_23 (Dense)             (None, 5)                 505       \n",
      "=================================================================\n",
      "Total params: 284,105\n",
      "Trainable params: 284,105\n",
      "Non-trainable params: 0\n",
      "_________________________________________________________________\n"
     ]
    }
   ],
   "source": [
    "model.summary()"
   ]
  },
  {
   "cell_type": "code",
   "execution_count": 374,
   "id": "6467bca9",
   "metadata": {},
   "outputs": [
    {
     "name": "stdout",
     "output_type": "stream",
     "text": [
      "Epoch 1/10\n",
      "867/867 [==============================] - 37s 37ms/step - loss: 0.0074 - val_loss: 1.4856e-04\n",
      "Epoch 2/10\n",
      "867/867 [==============================] - 31s 36ms/step - loss: 1.3415e-04 - val_loss: 1.8835e-04\n",
      "Epoch 3/10\n",
      "867/867 [==============================] - 31s 36ms/step - loss: 9.4572e-05 - val_loss: 3.2190e-05\n",
      "Epoch 4/10\n",
      "867/867 [==============================] - 32s 36ms/step - loss: 1.1534e-04 - val_loss: 7.6645e-05\n",
      "Epoch 5/10\n",
      "867/867 [==============================] - 31s 35ms/step - loss: 1.1600e-04 - val_loss: 6.5247e-05\n",
      "Epoch 6/10\n",
      "867/867 [==============================] - 31s 36ms/step - loss: 9.1569e-05 - val_loss: 5.5887e-05\n",
      "Epoch 7/10\n",
      "867/867 [==============================] - 31s 36ms/step - loss: 6.5054e-05 - val_loss: 9.3611e-05\n",
      "Epoch 8/10\n",
      "867/867 [==============================] - 31s 36ms/step - loss: 1.0202e-04 - val_loss: 4.5407e-05\n",
      "Epoch 9/10\n",
      "867/867 [==============================] - 31s 36ms/step - loss: 6.8616e-05 - val_loss: 1.3039e-04\n",
      "Epoch 10/10\n",
      "867/867 [==============================] - 31s 36ms/step - loss: 7.6409e-05 - val_loss: 1.4731e-04\n"
     ]
    }
   ],
   "source": [
    "history4 = model.fit(trainX, trainY, epochs=10, batch_size=32, validation_data=(valdX,valdY), verbose=1)"
   ]
  },
  {
   "cell_type": "code",
   "execution_count": 375,
   "id": "3a43d8bb",
   "metadata": {},
   "outputs": [
    {
     "data": {
      "text/plain": [
       "[<matplotlib.lines.Line2D at 0x24cd8d50bb0>]"
      ]
     },
     "execution_count": 375,
     "metadata": {},
     "output_type": "execute_result"
    },
    {
     "data": {
      "image/png": "[encoded data removed]",
      "text/plain": [
       "<Figure size 432x288 with 1 Axes>"
      ]
     },
     "metadata": {
      "needs_background": "light"
     },
     "output_type": "display_data"
    }
   ],
   "source": [
    "plt.plot(history3.history[\"loss\"])\n",
    "plt.plot(history3.history[\"val_loss\"])"
   ]
  },
  {
   "cell_type": "code",
   "execution_count": 376,
   "id": "017c7e99",
   "metadata": {},
   "outputs": [
    {
     "data": {
      "text/plain": [
       "(3395, 80, 5)"
      ]
     },
     "execution_count": 376,
     "metadata": {},
     "output_type": "execute_result"
    }
   ],
   "source": [
    "valdX.shape"
   ]
  },
  {
   "cell_type": "code",
   "execution_count": 377,
   "id": "dbda246a",
   "metadata": {},
   "outputs": [
    {
     "data": {
      "text/plain": [
       "(3395, 1)"
      ]
     },
     "execution_count": 377,
     "metadata": {},
     "output_type": "execute_result"
    }
   ],
   "source": [
    "valdY.shape"
   ]
  },
  {
   "cell_type": "code",
   "execution_count": 378,
   "id": "bd9f23e4",
   "metadata": {},
   "outputs": [],
   "source": [
    "predicted = model.predict(valdX)"
   ]
  },
  {
   "cell_type": "code",
   "execution_count": 379,
   "id": "2178e35d",
   "metadata": {},
   "outputs": [
    {
     "data": {
      "text/plain": [
       "array([ 0.07135475,  0.07139045,  0.071389  , ..., -0.12606074,\n",
       "       -0.1281264 , -0.12799548], dtype=float32)"
      ]
     },
     "execution_count": 379,
     "metadata": {},
     "output_type": "execute_result"
    }
   ],
   "source": [
    "predicted[:,3]"
   ]
  },
  {
   "cell_type": "code",
   "execution_count": 380,
   "id": "c0463f66",
   "metadata": {},
   "outputs": [],
   "source": [
    "valdY_new = np.reshape(valdY,(3395,1))"
   ]
  },
  {
   "cell_type": "code",
   "execution_count": 381,
   "id": "85378bd1",
   "metadata": {},
   "outputs": [
    {
     "data": {
      "text/plain": [
       "(3395, 1)"
      ]
     },
     "execution_count": 381,
     "metadata": {},
     "output_type": "execute_result"
    }
   ],
   "source": [
    "valdY_new.shape"
   ]
  },
  {
   "cell_type": "code",
   "execution_count": 383,
   "id": "5a5d987f",
   "metadata": {},
   "outputs": [
    {
     "data": {
      "text/plain": [
       "[<matplotlib.lines.Line2D at 0x24cb987fc40>]"
      ]
     },
     "execution_count": 383,
     "metadata": {},
     "output_type": "execute_result"
    },
    {
     "data": {
      "image/png": "[encoded data removed]",
      "text/plain": [
       "<Figure size 432x288 with 1 Axes>"
      ]
     },
     "metadata": {
      "needs_background": "light"
     },
     "output_type": "display_data"
    }
   ],
   "source": [
    "plt.plot(valdY)\n",
    "plt.plot(predicted[:,3])"
   ]
  },
  {
   "cell_type": "code",
   "execution_count": 382,
   "id": "e5e76ddd",
   "metadata": {},
   "outputs": [
    {
     "data": {
      "text/plain": [
       "0.00010320379793639897"
      ]
     },
     "execution_count": 382,
     "metadata": {},
     "output_type": "execute_result"
    }
   ],
   "source": [
    "mean_squared_error(valdY_new,predicted[:,3])"
   ]
  },
  {
   "cell_type": "code",
   "execution_count": 353,
   "id": "c40d1888",
   "metadata": {},
   "outputs": [],
   "source": [
    "predicted_test = model.predict(testX)"
   ]
  },
  {
   "cell_type": "code",
   "execution_count": 354,
   "id": "902777ec",
   "metadata": {},
   "outputs": [
    {
     "data": {
      "text/plain": [
       "(3397, 5)"
      ]
     },
     "execution_count": 354,
     "metadata": {},
     "output_type": "execute_result"
    }
   ],
   "source": [
    "predicted_test.shape"
   ]
  },
  {
   "cell_type": "code",
   "execution_count": 355,
   "id": "c3515188",
   "metadata": {},
   "outputs": [
    {
     "data": {
      "text/plain": [
       "(3397, 1)"
      ]
     },
     "execution_count": 355,
     "metadata": {},
     "output_type": "execute_result"
    }
   ],
   "source": [
    "testY.shape"
   ]
  },
  {
   "cell_type": "code",
   "execution_count": 356,
   "id": "8dcb16d9",
   "metadata": {},
   "outputs": [],
   "source": [
    "testY_new = np.reshape(testY,(3397,1))"
   ]
  },
  {
   "cell_type": "code",
   "execution_count": 357,
   "id": "b38cbcc7",
   "metadata": {},
   "outputs": [
    {
     "data": {
      "text/plain": [
       "0.16759569006996272"
      ]
     },
     "execution_count": 357,
     "metadata": {},
     "output_type": "execute_result"
    }
   ],
   "source": [
    "mean_squared_error(predicted_test[:,3],testY_new)"
   ]
  },
  {
   "cell_type": "code",
   "execution_count": 358,
   "id": "8e6a31a9",
   "metadata": {},
   "outputs": [],
   "source": [
    "testY_new = np.repeat(testY_new,5,axis=1)"
   ]
  },
  {
   "cell_type": "code",
   "execution_count": 359,
   "id": "4f2ab61b",
   "metadata": {},
   "outputs": [
    {
     "data": {
      "text/plain": [
       "array([[0.67099531, 0.67099531, 0.67099531, 0.67099531, 0.67099531],\n",
       "       [0.66739838, 0.66739838, 0.66739838, 0.66739838, 0.66739838],\n",
       "       [0.67493765, 0.67493765, 0.67493765, 0.67493765, 0.67493765],\n",
       "       ...,\n",
       "       [0.03531531, 0.03531531, 0.03531531, 0.03531531, 0.03531531],\n",
       "       [0.03445093, 0.03445093, 0.03445093, 0.03445093, 0.03445093],\n",
       "       [0.04241011, 0.04241011, 0.04241011, 0.04241011, 0.04241011]])"
      ]
     },
     "execution_count": 359,
     "metadata": {},
     "output_type": "execute_result"
    }
   ],
   "source": [
    "testY_new"
   ]
  },
  {
   "cell_type": "code",
   "execution_count": 360,
   "id": "d734298a",
   "metadata": {},
   "outputs": [],
   "source": [
    "testY_new = features_scaler.inverse_transform(testY_new)"
   ]
  },
  {
   "cell_type": "code",
   "execution_count": 361,
   "id": "f6fb8836",
   "metadata": {},
   "outputs": [],
   "source": [
    "predicted = features_scaler.inverse_transform(predicted_test)"
   ]
  },
  {
   "cell_type": "code",
   "execution_count": 364,
   "id": "f73557ee",
   "metadata": {},
   "outputs": [
    {
     "data": {
      "text/plain": [
       "21807300.714397766"
      ]
     },
     "execution_count": 364,
     "metadata": {},
     "output_type": "execute_result"
    }
   ],
   "source": [
    "mean_squared_error(predicted[:,3],testY_new[:,3])"
   ]
  },
  {
   "cell_type": "code",
   "execution_count": 366,
   "id": "ad32e1f0",
   "metadata": {},
   "outputs": [
    {
     "data": {
      "text/plain": [
       "[<matplotlib.lines.Line2D at 0x24cb1561670>]"
      ]
     },
     "execution_count": 366,
     "metadata": {},
     "output_type": "execute_result"
    },
    {
     "data": {
      "image/png": "[encoded data removed]",
      "text/plain": [
       "<Figure size 432x288 with 1 Axes>"
      ]
     },
     "metadata": {
      "needs_background": "light"
     },
     "output_type": "display_data"
    }
   ],
   "source": [
    "plt.plot(predicted[:,3])\n",
    "plt.plot(testY_new[:,3])"
   ]
  },
  {
   "cell_type": "code",
   "execution_count": 326,
   "id": "dd4bf495",
   "metadata": {},
   "outputs": [
    {
     "data": {
      "text/plain": [
       "45296666.18662792"
      ]
     },
     "execution_count": 326,
     "metadata": {},
     "output_type": "execute_result"
    }
   ],
   "source": [
    "mean_squared_error(predicted[:,3],testY_new[:,3])"
   ]
  },
  {
   "cell_type": "code",
   "execution_count": 332,
   "id": "7b409c55",
   "metadata": {},
   "outputs": [
    {
     "data": {
      "text/plain": [
       "[<matplotlib.lines.Line2D at 0x24cbf5e9df0>]"
      ]
     },
     "execution_count": 332,
     "metadata": {},
     "output_type": "execute_result"
    },
    {
     "data": {
      "image/png": "[encoded data removed]",
      "text/plain": [
       "<Figure size 432x288 with 1 Axes>"
      ]
     },
     "metadata": {
      "needs_background": "light"
     },
     "output_type": "display_data"
    }
   ],
   "source": [
    "plt.plot(predicted[:,3])\n",
    "plt.plot(testY_new[:,3])"
   ]
  },
  {
   "cell_type": "code",
   "execution_count": 76,
   "id": "d7ff63dc",
   "metadata": {},
   "outputs": [],
   "source": [
    "import matplotlib.pyplot as plt"
   ]
  },
  {
   "cell_type": "code",
   "execution_count": 253,
   "id": "6fa3d8aa",
   "metadata": {},
   "outputs": [],
   "source": [
    "testY_new = features_scaler.inverse_transform(testY_new)"
   ]
  },
  {
   "cell_type": "code",
   "execution_count": 254,
   "id": "c22fec27",
   "metadata": {},
   "outputs": [],
   "source": [
    "predicted_test = features_scaler.inverse_transform(predicted_test)"
   ]
  },
  {
   "cell_type": "code",
   "execution_count": 263,
   "id": "831f72cb",
   "metadata": {},
   "outputs": [
    {
     "data": {
      "text/plain": [
       "[<matplotlib.lines.Line2D at 0x24cc026a220>]"
      ]
     },
     "execution_count": 263,
     "metadata": {},
     "output_type": "execute_result"
    },
    {
     "data": {
      "image/png": "[encoded data removed]",
      "text/plain": [
       "<Figure size 432x288 with 1 Axes>"
      ]
     },
     "metadata": {
      "needs_background": "light"
     },
     "output_type": "display_data"
    }
   ],
   "source": [
    "plt.plot(predicted_test[:,3])\n",
    "plt.plot(testY_new[:,3])"
   ]
  },
  {
   "cell_type": "markdown",
   "id": "58aca06e",
   "metadata": {},
   "source": [
    "## future prediction"
   ]
  },
  {
   "cell_type": "code",
   "execution_count": 89,
   "id": "0ed15721",
   "metadata": {},
   "outputs": [
    {
     "data": {
      "text/plain": [
       "(27724, 80, 5)"
      ]
     },
     "execution_count": 89,
     "metadata": {},
     "output_type": "execute_result"
    }
   ],
   "source": [
    "trainX.shape"
   ]
  },
  {
   "cell_type": "code",
   "execution_count": 90,
   "id": "be2ead38",
   "metadata": {},
   "outputs": [],
   "source": [
    "current_pred = model.predict(current_batch)"
   ]
  },
  {
   "cell_type": "code",
   "execution_count": 91,
   "id": "c385d09b",
   "metadata": {},
   "outputs": [
    {
     "data": {
      "text/plain": [
       "array([[0.06641719]], dtype=float32)"
      ]
     },
     "execution_count": 91,
     "metadata": {},
     "output_type": "execute_result"
    }
   ],
   "source": [
    "current_pred"
   ]
  },
  {
   "cell_type": "code",
   "execution_count": 93,
   "id": "a6d8feff",
   "metadata": {},
   "outputs": [
    {
     "name": "stdout",
     "output_type": "stream",
     "text": [
      "Current_pred: [[0.06641719]]\n"
     ]
    },
    {
     "ename": "ValueError",
     "evalue": "cannot reshape array of size 1 into shape (1,1,8)",
     "output_type": "error",
     "traceback": [
      "\u001b[1;31m---------------------------------------------------------------------------\u001b[0m",
      "\u001b[1;31mValueError\u001b[0m                                Traceback (most recent call last)",
      "\u001b[1;32m~\\AppData\\Local\\Temp/ipykernel_8772/477171918.py\u001b[0m in \u001b[0;36m<module>\u001b[1;34m\u001b[0m\n\u001b[0;32m     14\u001b[0m     \u001b[1;31m# use the prediction to update the batch and remove the first value\u001b[0m\u001b[1;33m\u001b[0m\u001b[1;33m\u001b[0m\u001b[0m\n\u001b[0;32m     15\u001b[0m     \u001b[0mcurrent_batch\u001b[0m\u001b[1;33m=\u001b[0m \u001b[0mnp\u001b[0m\u001b[1;33m.\u001b[0m\u001b[0mdelete\u001b[0m\u001b[1;33m(\u001b[0m\u001b[0mcurrent_batch\u001b[0m\u001b[1;33m,\u001b[0m\u001b[1;36m0\u001b[0m\u001b[1;33m,\u001b[0m\u001b[0maxis\u001b[0m\u001b[1;33m=\u001b[0m\u001b[1;36m1\u001b[0m\u001b[1;33m)\u001b[0m\u001b[1;33m\u001b[0m\u001b[1;33m\u001b[0m\u001b[0m\n\u001b[1;32m---> 16\u001b[1;33m     \u001b[0mcurrent_pred\u001b[0m \u001b[1;33m=\u001b[0m \u001b[0mcurrent_pred\u001b[0m\u001b[1;33m.\u001b[0m\u001b[0mreshape\u001b[0m\u001b[1;33m(\u001b[0m\u001b[1;33m(\u001b[0m\u001b[1;36m1\u001b[0m\u001b[1;33m,\u001b[0m\u001b[1;36m1\u001b[0m\u001b[1;33m,\u001b[0m\u001b[1;36m8\u001b[0m\u001b[1;33m)\u001b[0m\u001b[1;33m)\u001b[0m\u001b[1;33m\u001b[0m\u001b[1;33m\u001b[0m\u001b[0m\n\u001b[0m\u001b[0;32m     17\u001b[0m     \u001b[0mcurrent_batch\u001b[0m \u001b[1;33m=\u001b[0m \u001b[0mnp\u001b[0m\u001b[1;33m.\u001b[0m\u001b[0mappend\u001b[0m\u001b[1;33m(\u001b[0m\u001b[0mcurrent_batch\u001b[0m\u001b[1;33m,\u001b[0m\u001b[0mcurrent_pred\u001b[0m\u001b[1;33m,\u001b[0m\u001b[0maxis\u001b[0m\u001b[1;33m=\u001b[0m\u001b[1;36m1\u001b[0m\u001b[1;33m)\u001b[0m\u001b[1;33m\u001b[0m\u001b[1;33m\u001b[0m\u001b[0m\n\u001b[0;32m     18\u001b[0m \u001b[1;33m\u001b[0m\u001b[0m\n",
      "\u001b[1;31mValueError\u001b[0m: cannot reshape array of size 1 into shape (1,1,8)"
     ]
    }
   ],
   "source": [
    "future_predictions = []  ## list of future values\n",
    "\n",
    "current_batch = trainX[-1:]   ## using the last 7 days of past to predict the next future day\n",
    "\n",
    "for _ in range(14):    ## iterating the same for 14 days future forecast\n",
    "    \n",
    "    # get the prediction value for the first batch\n",
    "    current_pred = model.predict(current_batch)\n",
    "    \n",
    "    print(\"Current_pred: {}\".format(current_pred))\n",
    "    # append the prediction into the array\n",
    "    future_predictions.append(current_pred[0][0])\n",
    "    \n",
    "    # use the prediction to update the batch and remove the first value\n",
    "    current_batch= np.delete(current_batch,0,axis=1)\n",
    "    current_pred = current_pred.reshape((1,1,8))\n",
    "    current_batch = np.append(current_batch,current_pred,axis=1)\n",
    "    \n",
    "    print(\"Current_batch: {}\".format(current_batch))"
   ]
  },
  {
   "cell_type": "code",
   "execution_count": null,
   "id": "113d0f20",
   "metadata": {},
   "outputs": [],
   "source": []
  }
 ],
 "metadata": {
  "kernelspec": {
   "display_name": "Python 3 (ipykernel)",
   "language": "python",
   "name": "python3"
  },
  "language_info": {
   "codemirror_mode": {
    "name": "ipython",
    "version": 3
   },
   "file_extension": ".py",
   "mimetype": "text/x-python",
   "name": "python",
   "nbconvert_exporter": "python",
   "pygments_lexer": "ipython3",
   "version": "3.9.7"
  }
 },
 "nbformat": 4,
 "nbformat_minor": 5
}
